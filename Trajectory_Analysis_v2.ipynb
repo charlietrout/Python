{
 "cells": [
  {
   "cell_type": "code",
   "execution_count": null,
   "id": "529f9b56",
   "metadata": {},
   "outputs": [],
   "source": [
    "from tracktable.core import data_directory\n",
    "from tracktable.core import geomath as geomath\n",
    "import os.path\n",
    "import matplotlib.pyplot as plt\n",
    "from tracktable.applications.assemble_trajectories import AssembleTrajectoryFromPoints\n",
    "from tracktable.domain.terrestrial import TrajectoryPointReader\n",
    "from datetime import timedelta\n",
    "from tracktable.render.render_trajectories import render_trajectories, render_trajectories_separate\n",
    "\n",
    "import numpy as np\n",
    "from datetime import datetime\n",
    "\n",
    "import pandas as pd\n",
    "\n",
    "from tracktable.domain import terrestrial\n",
    "from tracktable.render.mapmaker import mapmaker\n",
    "\n",
    "import tracktable.domain.terrestrial\n",
    "from tracktable.lib._domain_algorithm_overloads import end_to_end_distance as _end_to_end_distance\n",
    "from tracktable.lib._domain_algorithm_overloads import length as _length\n",
    "from tracktable.lib._domain_algorithm_overloads import speed_between as _speed_between"
   ]
  },
  {
   "cell_type": "code",
   "execution_count": null,
   "id": "09266397",
   "metadata": {},
   "outputs": [],
   "source": [
    "def load_trajectories_from_delim_txt(filename):\n",
    "    reader = TrajectoryPointReader()\n",
    "    reader.input = open(filename, \"r\")\n",
    "    reader.field_delimiter = '\\t'\n",
    "    reader.object_id_column = 0\n",
    "    reader.timestamp_column = 1\n",
    "    reader.coordinates[0] = 2     #longitude\n",
    "    reader.coordinates[1] = 3     #latitude\n",
    "    reader.set_real_field_column('heading', 5)\n",
    "    reader.set_real_field_column('altitude', 6)\n",
    "    reader.set_time_field_column('expected_departure_time', 21)\n",
    "    reader.set_time_field_column('expected_arrival_time', 22)\n",
    "    reader.set_time_field_column('actual_departure_time', 23)\n",
    "    reader.set_time_field_column('actual_arrival_time', 24)\n",
    "    builder = AssembleTrajectoryFromPoints()\n",
    "    builder.input = reader\n",
    "    builder.separation_distance = 100 #km\n",
    "    builder.separation_time = timedelta(minutes = 20)\n",
    "    builder.minimum_length = 5 #points\n",
    "    trajectories = list(builder)\n",
    "    return trajectories"
   ]
  },
  {
   "cell_type": "code",
   "execution_count": null,
   "id": "e48959a2",
   "metadata": {},
   "outputs": [],
   "source": [
    "# tracktable.domain.terrestrial.TrajectoryWriter\n",
    "\n",
    "# tracktable.domain.terrestrial.TrajectoryWriter(output)"
   ]
  },
  {
   "cell_type": "code",
   "execution_count": null,
   "id": "69ba595f",
   "metadata": {},
   "outputs": [],
   "source": [
    "def max_altitude(trajectory):\n",
    "    #altitude = point.properties[\"altitude\"] -- .append to make a list\n",
    "    all_altitude_values = list()\n",
    "    for point in trajectory:\n",
    "        if \"altitude\" in point.properties:\n",
    "            altitude = point.properties[\"altitude\"]\n",
    "            if altitude is not None: \n",
    "                all_altitude_values.append(altitude)\n",
    "        \n",
    "    #alt_list = [point.properties[\"altitude\"] for point in trajectory]  # --> list comprehension \n",
    "    max_alt = max(all_altitude_values)\n",
    "    return max_alt\n",
    "\n",
    "# max_alt_list = [max_altitude(trajectory) for trajectory in load_trajectories]\n",
    "# plt.hist(max_alt_list)"
   ]
  },
  {
   "cell_type": "code",
   "execution_count": null,
   "id": "e38fea01",
   "metadata": {},
   "outputs": [],
   "source": [
    "def maximum_speed(trajectory):\n",
    "    speed_list = list()\n",
    "    for point in trajectory:\n",
    "        if \"speed\" in point.properties:\n",
    "            speed = point.properties[\"speed\"]\n",
    "            if speed is not None: \n",
    "                speed_list.append(speed)\n",
    "        \n",
    "    max_speed = max(speed_list)\n",
    "    return max_speed"
   ]
  },
  {
   "cell_type": "code",
   "execution_count": null,
   "id": "94f577cf",
   "metadata": {},
   "outputs": [],
   "source": [
    "def end_to_end_distance(traj):\n",
    "    \"\"\"Return the distance between a path's endpoints\n",
    "\n",
    "    This is just the crow-flight distance between start and end points rather\n",
    "    than the total distance traveled.\n",
    "\n",
    "    Domain Information:\n",
    "\n",
    "      Terrestrial: distance in km\n",
    "\n",
    "      Cartesian2D: distance in units\n",
    "\n",
    "      Cartesian3D: distance in units\n",
    "\n",
    "    Args:\n",
    "      trajectory (Trajectory): Path whose length we want\n",
    "\n",
    "    Returns:\n",
    "      Length in domain-dependent units\n",
    "\n",
    "    \"\"\"\n",
    "    \n",
    "    return _end_to_end_distance(traj)"
   ]
  },
  {
   "cell_type": "code",
   "execution_count": null,
   "id": "17ee1280",
   "metadata": {},
   "outputs": [],
   "source": [
    "def length(traj):\n",
    "    \"\"\"Return the length of a path in domain-dependent units\n",
    "\n",
    "    This is the total length of all segments in the trajectory.\n",
    "\n",
    "    Domain Information:\n",
    "\n",
    "      Terrestrial: distance in km\n",
    "\n",
    "      Cartesian2D: distance in units\n",
    "\n",
    "      Cartesian3D: distance in units\n",
    "\n",
    "    Args:\n",
    "      trajectory (Trajectory): Path whose length we want\n",
    "\n",
    "    Returns:\n",
    "      Length in domain-dependent units\n",
    "\n",
    "    \"\"\"\n",
    "\n",
    "    return _length(traj)"
   ]
  },
  {
   "cell_type": "code",
   "execution_count": null,
   "id": "fd78571a",
   "metadata": {},
   "outputs": [],
   "source": [
    "def length_and_end_to_end_distance_ratio(traj):\n",
    "    \"\"\"Return the ratio of end-to-end distance to length of a path\n",
    "\n",
    "    This function calculates both the total length of all segments in the trajectory\n",
    "    and the crow-flight distance between the start and end points. Then, it returns\n",
    "    the ratio of the end-to-end distance to the total length.\n",
    "\n",
    "    Domain Information:\n",
    "\n",
    "      Terrestrial: distance in km\n",
    "\n",
    "      Cartesian2D: distance in units\n",
    "\n",
    "      Cartesian3D: distance in units\n",
    "\n",
    "    Args:\n",
    "      trajectory (Trajectory): Path whose ratio of end-to-end distance to length we want\n",
    "\n",
    "    Returns:\n",
    "      float: Ratio of end-to-end distance to length\n",
    "    \"\"\"\n",
    "    total_length = _length(traj)\n",
    "    end_to_end_dist = _end_to_end_distance(traj)\n",
    "    return end_to_end_dist / total_length"
   ]
  },
  {
   "cell_type": "code",
   "execution_count": null,
   "id": "2448ab6f",
   "metadata": {},
   "outputs": [],
   "source": [
    "def afltduration(traj):\n",
    "    afllist = list()\n",
    "    actdeplist = list()\n",
    "    actarrlist = list()\n",
    "    for point in traj:\n",
    "        if \"expected_departure_time\" in point.properties:\n",
    "            expdeparturetime = point.properties[\"actual_arrival_time\"]\n",
    "            if expdeparturetime is not None: \n",
    "                actarrlist.append(expdeparturetime)\n",
    "        \n",
    "        if \"actual_departure_time\" in point.properties:\n",
    "            actdeparturetime = point.properties[\"actual_departure_time\"]\n",
    "            if actdeparturetime is not None: \n",
    "                actdeplist.append(actdeparturetime)\n",
    "    \n",
    "    for departure, arrival in zip(actdeplist, actarrlist):\n",
    "        if departure and arrival:  \n",
    "            flight_duration = arrival - departure\n",
    "            afllist.append(flight_duration.total_seconds() / -60)  # Convert to minutes\n",
    "    return afllist"
   ]
  },
  {
   "cell_type": "code",
   "execution_count": null,
   "id": "9f647823",
   "metadata": {},
   "outputs": [],
   "source": [
    "def altitude_list(traj):\n",
    "    all_altitude_values = list()\n",
    "    for point in traj:\n",
    "        if \"altitude\" in point.properties:\n",
    "            altitude = point.properties[\"altitude\"]\n",
    "            if altitude is not None: \n",
    "                all_altitude_values.append(altitude)\n",
    "        \n",
    "    return all_altitude_values"
   ]
  },
  {
   "cell_type": "code",
   "execution_count": null,
   "id": "eafdf6d8",
   "metadata": {},
   "outputs": [],
   "source": [
    "def recompute_speed(traj, target_attribute_name=\"speed\"):\n",
    "    \"\"\"Use points and timestamps to compute speed\n",
    "\n",
    "    The speed data in trajectories is often suspect. This method goes\n",
    "    through and recomputes it based on the distance between\n",
    "    neighboring points and the time elapsed between those points.\n",
    "\n",
    "    The speed at point N is computed using the distance and time since\n",
    "    point N-1. The speed at point 0 is copied from point 1.\n",
    "\n",
    "    Args:\n",
    "      trajectory (Trajectory): Any Tracktable trajectory\n",
    "\n",
    "    Keyword Arguments:\n",
    "      target_attribute_name (str): Speed will be stored in this property at\n",
    "          each point. Defaults to 'speed'. (Default: \"speed\")\n",
    "\n",
    "    The trajectory will be modified in place instead of returning a\n",
    "    new copy.\n",
    "    \"\"\"\n",
    "\n",
    "    if len(traj) == 0:\n",
    "        return []\n",
    "    elif len(traj) == 1:\n",
    "        traj[0].properties[target_attribute_name] = 0\n",
    "        return [0]\n",
    "    else:\n",
    "        speeds = [None] * len(traj) \n",
    "        for point_index in range(1, len(traj)):\n",
    "            speed = _speed_between(traj[point_index - 1], traj[point_index])\n",
    "            traj[point_index].properties[target_attribute_name] = speed\n",
    "            speeds[point_index] = speed \n",
    "        speeds[0] = speeds[1] \n",
    "        traj[0].properties[target_attribute_name] = speeds[0]\n",
    "        return speeds"
   ]
  },
  {
   "cell_type": "code",
   "execution_count": null,
   "id": "8476f28b",
   "metadata": {},
   "outputs": [],
   "source": [
    "# f = plt.figure(size=(8, 6), dpi=100)\n",
    "\n",
    "# (mymap, initial_artists) = mapmaker('australia',\n",
    "#                                     draw_coastlines=True,\n",
    "#                                     draw_countries=False,\n",
    "#                                     draw_states=False,\n",
    "#                                     draw_lonlat=True,\n",
    "#                                     lonlat_spacing=2,\n",
    "#                                     lonlat_linewidth=0.5)"
   ]
  },
  {
   "cell_type": "code",
   "execution_count": null,
   "id": "0089fa65",
   "metadata": {},
   "outputs": [],
   "source": [
    "\n",
    "\n",
    "# Assuming your data is stored in a variable named 'data'\n",
    "data = \"\"\"object_id timestamp longitude latitude speed heading altitude callsign flight_number unknown status unknown unknown tail_number aircraft_type unknown unknown unknown unknown unknown unknown unknown expected_departure_time expected_arrival_time actual_departure_time actual_arrival_time origin_icao origin_name origin_iata origin_longitude origin_latitude destination_icao destination_name destination_iata destination_longitude destination_latitude unknown unknown unknown unknown unknown unknown route_icao unknown route_with_names route_iata\n",
    "UAL239 2015-01-02 00:00:00 -102.574 38.2258 79 31000 UAL239 UA239 2015-01-01 17:05:00 2015-01-01 10:43:00 2015-01-01 13:26:00 KLAX LAX (Los Angeles) LAX -118.408 33.9425 KSFO SFO (San Francisco) SFO -122.375 37.619 808.382 808.382 293.101 KLAX-KSFO LAX (Los Angeles)-SFO (San Francisco) LAX-SFO\n",
    "SKW6507 2015-01-02 00:00:00 -103.496 41.4022 181 30000 SKW6507 YT6507 2015-01-01 17:37:00 2015-01-01 16:21:00 2015-01-01 16:17:00 CYQR YQR (Regina) YQR -104.666 50.4319 KDEN DEN (Denver) DEN -104.673 39.8617 543.959 543.959 634.212 CYQR-KDEN YQR (Regina)-DEN (Denver) YQR-DEN\n",
    "DAL1914 2015-01-02 00:00:00 -103.573 40.3697 75 21300 DAL1914 DL1914 A320 2015-01-01 17:22:00 2015-01-01 14:40:00 2015-01-02 00:07:30 2015-01-01 19:53:00 KLGA LGA (New York) LGA -73.8726 40.7772 KDEN DEN (Denver) DEN -104.673 39.8617 1347.27 1347.27 1402.84 KLGA-KDEN LGA (New York)-DEN (Denver) LGA-DEN\"\"\"\n",
    "\n",
    "# Split the data into rows\n",
    "rows = data.split('\\n')\n",
    "\n",
    "# Extract the header row\n",
    "header_row = rows[0].split()\n",
    "\n",
    "# Search for the column name 'expected_departure_time'\n",
    "expected_departure_time_index = header_row.index('actual_departure_time')\n",
    "\n",
    "# Column number is one-based, so add 1 to the index\n",
    "column_number = expected_departure_time_index + 1\n",
    "\n",
    "print(\"Column number assigned to 'expected_departure_time':\", column_number)"
   ]
  },
  {
   "cell_type": "code",
   "execution_count": null,
   "id": "57c4a339",
   "metadata": {},
   "outputs": [],
   "source": [
    "load_trajectories = load_trajectories_from_delim_txt(\"asdi_2015_01_02.tsv\")"
   ]
  },
  {
   "cell_type": "code",
   "execution_count": null,
   "id": "da51a77a",
   "metadata": {},
   "outputs": [],
   "source": [
    "trajectory = load_trajectories[0:29057]"
   ]
  },
  {
   "cell_type": "code",
   "execution_count": null,
   "id": "fdbd744d",
   "metadata": {},
   "outputs": [],
   "source": [
    "# render_trajectories(trajectory)\n",
    "# render_trajectories(load_trajectories[0:100])"
   ]
  },
  {
   "cell_type": "code",
   "execution_count": null,
   "id": "128be7f0",
   "metadata": {},
   "outputs": [],
   "source": [
    "#tracktable.core.geomath.recompute_speed(trajectory, target_attribute_name=\"speed\")\n",
    "#tracktable.core.geomath.length(trajectory)\n",
    "#tracktable.core.geomath.end_to_end_distance(trajectory)"
   ]
  },
  {
   "cell_type": "code",
   "execution_count": null,
   "id": "41fb16ac",
   "metadata": {},
   "outputs": [],
   "source": [
    "endtoend_list = list()\n",
    "for traj in trajectory:\n",
    "    eedistance = end_to_end_distance(traj)\n",
    "    if eedistance >= 0 and eedistance is not None:\n",
    "        endtoend_list.append(eedistance)\n",
    "length_of_list = len(endtoend_list)\n",
    "print(\"Length of endtoend_list:\", length_of_list)"
   ]
  },
  {
   "cell_type": "code",
   "execution_count": null,
   "id": "174a446d",
   "metadata": {},
   "outputs": [],
   "source": [
    "arclength_list = list()\n",
    "for traj in trajectory:\n",
    "    alength = length(traj)\n",
    "    if alength >= 0 and alength is not None:\n",
    "        arclength_list.append(alength)\n",
    "length_of_list = len(arclength_list)\n",
    "print(\"Length of arclength_list:\", length_of_list)"
   ]
  },
  {
   "cell_type": "code",
   "execution_count": null,
   "id": "4e8ca193",
   "metadata": {},
   "outputs": [],
   "source": [
    "#altlist = altitude_list(trajectory)\n",
    "#print(altlist)\n",
    "altlists = []\n",
    "for traj in trajectory:\n",
    "    altitudes = altitude_list(traj) \n",
    "    traj_altitudes = []  \n",
    "    for altitude in altitudes:  \n",
    "        if altitude >= 0 and altitude is not None:\n",
    "            traj_altitudes.append(altitude)\n",
    "    altlists.append(traj_altitudes) \n",
    "print(altlists)"
   ]
  },
  {
   "cell_type": "code",
   "execution_count": null,
   "id": "72c3caba",
   "metadata": {},
   "outputs": [],
   "source": [
    "speed_lists = [] \n",
    "for traj in trajectory:\n",
    "    speeds = recompute_speed(traj, target_attribute_name=\"speed\")  \n",
    "    traj_speeds = [] \n",
    "    for speed in speeds: \n",
    "        if speed >= 0 and speed is not None:\n",
    "            traj_speeds.append(speed)\n",
    "    speed_lists.append(traj_speeds) \n",
    "print(speed_lists)"
   ]
  },
  {
   "cell_type": "code",
   "execution_count": null,
   "id": "0b1fc802",
   "metadata": {},
   "outputs": [],
   "source": [
    "altitude_differences_lists = []\n",
    "speed_differences_lists = []\n",
    "for traj in trajectory:\n",
    "    #Compute speed and altitude lists for the current trajectory\n",
    "    speeds = recompute_speed(traj)\n",
    "    altitudes = altitude_list(traj)\n",
    "    #Calculate the differences between speed values\n",
    "    speed_differences = [speeds[i] - speeds[i-1] for i in range(1, len(speeds))]\n",
    "    speed_differences_lists.append(speed_differences)\n",
    "    #Calculate the differences between altitude values\n",
    "    altitude_differences = [altitudes[i] - altitudes[i-1] for i in range(1, len(altitudes))]\n",
    "    altitude_differences_lists.append(altitude_differences)\n",
    "    print(\"Speed Differences:\", speed_differences)\n",
    "    print(\"Altitude Differences:\", altitude_differences)\n"
   ]
  },
  {
   "cell_type": "code",
   "execution_count": null,
   "id": "ade15b12",
   "metadata": {},
   "outputs": [],
   "source": [
    "#Initialize counters\n",
    "speed_sign_change_count = 0\n",
    "altitude_sign_change_count = 0\n",
    "both_sign_change_count = 0\n",
    "for i in range(len(speed_differences_lists)):\n",
    "    #Check for sign changes in speed differences\n",
    "    if any((j < len(speed_differences_lists[i]) - 1 and\n",
    "            ((diff > 0 and speed_differences_lists[i][j+1] < 0) or \n",
    "             (diff < 0 and speed_differences_lists[i][j+1] > 0)))\n",
    "           for j, diff in enumerate(speed_differences_lists[i])):\n",
    "        speed_sign_change_count += 1\n",
    "    #Check for sign changes in altitude differences\n",
    "    if any((j < len(altitude_differences_lists[i]) - 1 and\n",
    "            ((diff > 0 and altitude_differences_lists[i][j+1] < 0) or \n",
    "             (diff < 0 and altitude_differences_lists[i][j+1] > 0)))\n",
    "           for j, diff in enumerate(altitude_differences_lists[i])):\n",
    "        altitude_sign_change_count += 1\n",
    "    #Check for sign changes in both speed and altitude differences\n",
    "    if any((j < len(speed_differences_lists[i]) - 1 and\n",
    "            j < len(altitude_differences_lists[i]) - 1 and\n",
    "            (((diff_speed > 0 and speed_differences_lists[i][j+1] < 0) or \n",
    "              (diff_speed < 0 and speed_differences_lists[i][j+1] > 0)) and \n",
    "             ((diff_altitude > 0 and altitude_differences_lists[i][j+1] < 0) or \n",
    "              (diff_altitude < 0 and altitude_differences_lists[i][j+1] > 0))))\n",
    "           for j, (diff_speed, diff_altitude) in enumerate(zip(speed_differences_lists[i], altitude_differences_lists[i]))):\n",
    "        both_sign_change_count += 1\n",
    "print(\"Number of trajectories with a sign change in speed:\", speed_sign_change_count)\n",
    "print(\"Number of trajectories with a sign change in altitude:\", altitude_sign_change_count)\n",
    "print(\"Number of trajectories with a sign change in both speed and altitude:\", both_sign_change_count)\n",
    "\n",
    "\n",
    "\n"
   ]
  },
  {
   "cell_type": "code",
   "execution_count": null,
   "id": "0014b7b3",
   "metadata": {},
   "outputs": [],
   "source": [
    "#eearclength_ratio = [a / e for a, e in zip(endtoend_list, arclength_list) if a != 0 and e != 0 and a / e <= .99]\n",
    "#length_of_list = len(eearclength_ratio)\n",
    "#print(\"Length of eearclength_ratio:\", length_of_list)"
   ]
  },
  {
   "cell_type": "code",
   "execution_count": null,
   "id": "9eaf4aba",
   "metadata": {},
   "outputs": [],
   "source": [
    "#afldurationlist = list()\n",
    "#for traj in trajectory:\n",
    "    #afldur = afltduration(traj)\n",
    "    #afldurationlist.append(afldur)"
   ]
  },
  {
   "cell_type": "code",
   "execution_count": null,
   "id": "a422f682",
   "metadata": {},
   "outputs": [],
   "source": [
    "#altitude = max_altitude(trajectory)\n",
    "#speed = maximum_speed(trajectory)\n",
    "# endtoenddistance = endtoend_list\n",
    "# arclength = arclength_list\n",
    "#actualflightduration = afldurationlist"
   ]
  },
  {
   "cell_type": "code",
   "execution_count": null,
   "id": "037efc2c",
   "metadata": {},
   "outputs": [],
   "source": [
    "#print(altitude)\n",
    "#print(speed)\n",
    "#print(endtoenddistance)\n",
    "#print(arclength)\n",
    "#print(eearclength_ratio)\n",
    "#print(actualflightduration)\n",
    "#print(afltdurationlist)\n",
    "#ratioeedistancealength = (endtoenddistance/arclength)\n",
    "#print(ratioeedistancealength)\n"
   ]
  },
  {
   "cell_type": "code",
   "execution_count": null,
   "id": "e8921ee2",
   "metadata": {},
   "outputs": [],
   "source": [
    "#def current_time_frac(trajectory):\n",
    "    #for point in trajectory:\n",
    "        #time = geomath.current_time_fraction(point)\n",
    "        #print(time)"
   ]
  },
  {
   "cell_type": "code",
   "execution_count": null,
   "id": "ca395315",
   "metadata": {},
   "outputs": [],
   "source": [
    "#for point in trajectory:\n",
    "    #time = geomath.current_time_fraction(point)\n",
    "    #print(time)"
   ]
  },
  {
   "cell_type": "code",
   "execution_count": null,
   "id": "b3f37a1a",
   "metadata": {},
   "outputs": [],
   "source": [
    "#max_speed_list = [maximum_speed(trajectory) for trajectory in load_trajectories]"
   ]
  },
  {
   "cell_type": "code",
   "execution_count": null,
   "metadata": {},
   "outputs": [],
   "source": [
    "# threshold = 0.8697229263968138\n",
    "# eearclength_ratio_array = np.array(eearclength_ratio)\n",
    "# Q1 = np.percentile(eearclength_ratio_array, 25)\n",
    "# Q3 = np.percentile(eearclength_ratio_array, 75)\n",
    "# IQR = Q3 - Q1\n",
    "# lower_bound = Q1 - 1.5 * IQR\n",
    "# upper_bound = Q3 + 1.5 * IQR\n",
    "# #print(IQR)\n",
    "# print(upper_bound)\n",
    "# print(lower_bound)\n",
    "# #outliers = [value for value in eearclength_ratio if value < lower_bound or value > upper_bound]\n",
    "# #print(\"Outliers:\", outliers)\n",
    "# below_threshold = np.sum(eearclength_ratio_array < threshold)\n",
    "# percent_below_threshold = (below_threshold / len(eearclength_ratio)) * 100\n",
    "# print(f\"{percent_below_threshold}% of values are below {threshold}.\")\n",
    "# print(below_threshold)"
   ]
  },
  {
   "cell_type": "code",
   "execution_count": null,
   "id": "c1a5f7a6",
   "metadata": {},
   "outputs": [],
   "source": [
    "#plt.hist(max_speed_list)\n",
    "#plt.hist(endtoenddistance)\n",
    "#plt.hist(arclength)\n",
    "#plt.hist(eearclength_ratio, bins = 100)\n",
    "#plt.xlim(0, 1)  # Set the x-axis limits\n",
    "#plt.show()"
   ]
  },
  {
   "cell_type": "code",
   "execution_count": null,
   "id": "27cfbb3c",
   "metadata": {},
   "outputs": [],
   "source": [
    "condition = .72\n",
    "num_bins = 72\n",
    "total_trajectories = len(endtoend_list)\n",
    "while condition >= 0.70:\n",
    "    # Apply condition and calculate eearclength_ratio\n",
    "    filtered_indices = [i for i, (a, e) in enumerate(zip(endtoend_list, arclength_list)) if a != 0 and e != 0 and a / e <= condition]\n",
    "    eearclength_ratio = [a / e for a, e in zip(endtoend_list, arclength_list) if a != 0 and e != 0 and a / e <= condition]\n",
    "    # Filter trajectories based on the condition\n",
    "    filtered_trajectory = [trajectory[i] for i in filtered_indices]\n",
    "    # Calculate lower bound threshold for outliers\n",
    "    q1 = np.percentile(eearclength_ratio, 25)\n",
    "    q3 = np.percentile(eearclength_ratio, 75)\n",
    "    iqr = q3 - q1\n",
    "    lower_bound = q1 - 1.5 * iqr\n",
    "    # Filter outlier trajectories based on the lower bound threshold\n",
    "    outlier_indices = [i for i, ratio in enumerate(eearclength_ratio) if ratio < lower_bound]\n",
    "    outlier_trajectories = [filtered_trajectory[i] for i in outlier_indices]\n",
    "    render_trajectories(outlier_trajectories)\n",
    "    display(render_trajectories(outlier_trajectories))\n",
    "    plt.hist(eearclength_ratio, bins=num_bins)\n",
    "    plt.title(f'End to End Distance/Arc Length <= {condition:.2f}')\n",
    "    plt.ylabel('Frequency')\n",
    "    num_below_threshold = np.sum(np.array(eearclength_ratio) < lower_bound)\n",
    "    percent_below_threshold = (num_below_threshold / 29046) * 100\n",
    "    percent_of_orig_dataset_left = (len(eearclength_ratio) / 29046) * 100\n",
    "    plt.axvline(lower_bound, color='r', linestyle='--', label=f'Outlier Threshold: {lower_bound:.2f}')\n",
    "    plt.legend(loc='upper left')\n",
    "    plt.text(0.01, 0.78, f'# Below Threshold: {num_below_threshold}\\nPercent of Original Dataset Below Threshold: {percent_below_threshold:.2f}% \\nPercent Of Original Dataset Remaining: {percent_of_orig_dataset_left:.1f}%', transform=plt.gca().transAxes, fontsize=10, color='black')\n",
    "    plt.show()\n",
    "    condition -= 0.01\n",
    "    num_bins -= 1\n"
   ]
  },
  {
   "cell_type": "code",
   "execution_count": null,
   "id": "e616cc6f",
   "metadata": {},
   "outputs": [],
   "source": [
    "# condition = .90  # Initial condition value\n",
    "# # num_bins = 100  # Uncomment if you want to use num_bins\n",
    "# total_trajectories = len(endtoend_list)\n",
    "\n",
    "# # Apply condition and calculate eearclength_ratio\n",
    "# eearclength_ratio = [a / e for a, e in zip(endtoend_list, arclength_list) if a != 0 and e != 0 and a / e <= condition]\n",
    "# # Calculate lower bound threshold for outliers\n",
    "# q1 = np.percentile(eearclength_ratio, 25)\n",
    "# q3 = np.percentile(eearclength_ratio, 75)\n",
    "# iqr = q3 - q1\n",
    "# lower_bound = q1 - 1.5 * iqr\n",
    "# # Filter trajectories based on the condition\n",
    "# outlier_trajectories = [trajectory[i] for i, ratio in enumerate(eearclength_ratio) if ratio < lower_bound]\n",
    "# print(len(outlier_trajectories))\n",
    "# render_trajectories(outlier_trajectories)\n",
    "# # Plot histogram\n",
    "# # plt.hist(eearclength_ratio, bins=num_bins)\n",
    "# # plt.title(f'End to End Distance/Arc Length <= {condition:.2f}')\n",
    "# # plt.ylabel('Frequency')\n",
    "# # Calculate number of trajectories below threshold\n",
    "# # num_below_threshold = np.sum(np.array(eearclength_ratio) < lower_bound)\n",
    "# # Calculate percentage of trajectories below threshold\n",
    "# # percent_below_threshold = (num_below_threshold / 29046) * 100\n",
    "# # percent_of_orig_dataset_left = (len(eearclength_ratio) / 29046) * 100\n",
    "# # plt.axvline(lower_bound, color='r', linestyle='--', label=f'Outlier Threshold: {lower_bound:.2f}')\n",
    "# # plt.legend(loc='upper left')\n",
    "# # plt.text(0.01, 0.78, f'# Below Threshold: {num_below_threshold}\\nPercent of Original Dataset Below Threshold: {percent_below_threshold:.2f}% \\nPercent Of Original Dataset Remaining: {percent_of_orig_dataset_left:.1f}%', transform=plt.gca().transAxes, fontsize=10, color='black')\n",
    "# # plt.show()\n"
   ]
  },
  {
   "cell_type": "code",
   "execution_count": null,
   "id": "75a435db",
   "metadata": {},
   "outputs": [],
   "source": [
    "# speed_list = list()\n",
    "# for point in trajectory:\n",
    "#     if \"speed\" in point.properties:\n",
    "#         speed = point.properties[\"speed\"]\n",
    "#         print(speed)\n",
    "#         if speed is not None: \n",
    "#             speed_list.append(speed)"
   ]
  },
  {
   "cell_type": "code",
   "execution_count": null,
   "id": "8992367f",
   "metadata": {},
   "outputs": [],
   "source": [
    "# print(speed)"
   ]
  },
  {
   "cell_type": "code",
   "execution_count": null,
   "id": "f7bd51d9",
   "metadata": {},
   "outputs": [],
   "source": [
    "# To Do:\n",
    "#     speed_between\n",
    "\n",
    "# sanity_check_distance_less_than\n",
    "# current_length"
   ]
  }
 ],
 "metadata": {
  "kernelspec": {
   "display_name": "Python 3 (ipykernel)",
   "language": "python",
   "name": "python3"
  },
  "language_info": {
   "codemirror_mode": {
    "name": "ipython",
    "version": 3
   },
   "file_extension": ".py",
   "mimetype": "text/x-python",
   "name": "python",
   "nbconvert_exporter": "python",
   "pygments_lexer": "ipython3",
   "version": "3.11.1"
  }
 },
 "nbformat": 4,
 "nbformat_minor": 5
}
